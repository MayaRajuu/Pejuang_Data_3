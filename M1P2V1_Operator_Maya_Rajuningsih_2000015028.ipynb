{
  "nbformat": 4,
  "nbformat_minor": 0,
  "metadata": {
    "colab": {
      "name": "M1P2V1 Operator Maya Rajuningsih 2000015028",
      "provenance": []
    },
    "kernelspec": {
      "name": "python3",
      "display_name": "Python 3"
    },
    "language_info": {
      "name": "python"
    }
  },
  "cells": [
    {
      "cell_type": "markdown",
      "metadata": {
        "id": "u5U4sgBEwdTc"
      },
      "source": [
        "# Operator "
      ]
    },
    {
      "cell_type": "markdown",
      "metadata": {
        "id": "vJN9KdRtwhRt"
      },
      "source": [
        "operator simbol-simbol yang dapat digunakan untuk mengubah nilai dari satu variabel dnegan melibatkan satu atau lebih variabel dan literal.\n",
        "tipe tipe operator\n",
        "\n",
        "1.   operator aritmatika\n",
        "2.   operator asigment\n",
        "3.   operator pembanding\n",
        "4.   operator logika\n",
        "5.   operator membership\n",
        "\n"
      ]
    },
    {
      "cell_type": "markdown",
      "metadata": {
        "id": "EGXGLhtmxII2"
      },
      "source": [
        "# Operator Aritmatika"
      ]
    },
    {
      "cell_type": "markdown",
      "metadata": {
        "id": "uk8gnDxYxLS7"
      },
      "source": [
        "operator aritmatika digunakan untuk melakukan operasi matematika yang umum.\n",
        "macam-macam operator aritmatika :"
      ]
    },
    {
      "cell_type": "code",
      "metadata": {
        "id": "iaFaIEQB0bW8"
      },
      "source": [
        "+ : penjumlahan \n",
        "- : pengurnagan \n",
        "* : perkalian \n",
        "/ : pembagian\n",
        "% : modulus\n",
        "** : perpangkatan\n",
        "// : pembagian dengan hasil pembulatan flooring"
      ],
      "execution_count": null,
      "outputs": []
    },
    {
      "cell_type": "code",
      "metadata": {
        "id": "gm99Yn_DxsQc"
      },
      "source": [
        "# contoh penggunaan operator aritmatika\n",
        "\n",
        "#penjumlahan\n",
        "print('penjumlahan')\n",
        "print(2+2)\n",
        "#pengurangan \n",
        "print('-'*20)\n",
        "print('pengurangan')\n",
        "print(2-3)\n",
        "#perkalian \n",
        "print('-'*20)\n",
        "print('perkalian')\n",
        "print(2*3)\n",
        "#pembagian\n",
        "print('-'*20)\n",
        "print('pembagian')\n",
        "print(2/3)\n",
        "#modulus\n",
        "print('-'*20)\n",
        "print('modulus')\n",
        "print(2%3)\n",
        "#perpangkatan \n",
        "print('-'*20)\n",
        "print('perpangkatan')\n",
        "print(2**3)\n",
        "#pembagian pembulatan floring\n",
        "print('-'*20)\n",
        "print('pembagian pembulatan floring')\n",
        "print"
      ],
      "execution_count": null,
      "outputs": []
    },
    {
      "cell_type": "markdown",
      "metadata": {
        "id": "OO0Lbs05y-ky"
      },
      "source": [
        "Latihan operator 1"
      ]
    },
    {
      "cell_type": "code",
      "metadata": {
        "id": "zGjXpg8ozBBD"
      },
      "source": [
        "#buatlah program penerapan operator aritmatika\n",
        "#dengan nilai nilai yang berbeda dari contohd di atas\n",
        "#penjumlahan\n",
        "print('penjumlahan')\n",
        "print(12+23)\n",
        "#pengurangan \n",
        "print('-'*20)\n",
        "print('pengurangan')\n",
        "print(20-13)\n",
        "#perkalian \n",
        "print('-'*20)\n",
        "print('perkalian')\n",
        "print(4*7)\n",
        "#pembagian\n",
        "print('-'*20)\n",
        "print('pembagian')\n",
        "print(20/5)\n",
        "#modulus\n",
        "print('-'*20)\n",
        "print('modulus')\n",
        "print(5%3)\n",
        "#perpangkatan \n",
        "print('-'*20)\n",
        "print('perpangkatan')\n",
        "print(3**5)\n",
        "#pembagian pembulatan floring\n",
        "print('-'*20)\n",
        "print('pembagian pembulatan floring')\n",
        "print(5//3)"
      ],
      "execution_count": null,
      "outputs": []
    },
    {
      "cell_type": "markdown",
      "metadata": {
        "id": "U4XSioFPzcSc"
      },
      "source": [
        "#Operator Assigment"
      ]
    },
    {
      "cell_type": "markdown",
      "metadata": {
        "id": "hgonAgWFziqk"
      },
      "source": [
        "operator `assigment` digunakan untuk menyimpan nilai menjadi suatu variabel"
      ]
    },
    {
      "cell_type": "code",
      "metadata": {
        "id": "UczJHdTlzpLL"
      },
      "source": [
        "= : contohnya  x = 5     -> x = 5\n",
        "+= : contohnya x = x + 5 -> x += 5\n",
        "-= : contohnya x = x - 5 -> x -= 5\n",
        "*= : contohnya x = x * 5 -> x *= 5\n",
        "/= : contohnya x = x / 5 -> x /= 5\n",
        "%= : contohnya x = x % 5 -> x %= 5\n",
        "//= : contohnya x = x // 5 -> x //= 5\n",
        "**= : contohnya x = x ** 5 -> x **= 5"
      ],
      "execution_count": null,
      "outputs": []
    },
    {
      "cell_type": "code",
      "metadata": {
        "id": "LxaWLDNo1yZs"
      },
      "source": [
        "#contoh penggunaan operator assigment\n",
        "\n",
        "#penjumlahan\n",
        "print('penjumlahan')\n",
        "x=5\n",
        "x=x+5\n",
        "print(x)\n",
        "x=5\n",
        "x+=3\n",
        "print(x)\n",
        "print('-'*20)\n",
        "\n",
        "#pengurangan\n",
        "print('pengurangan')\n",
        "x=5\n",
        "x=x-5\n",
        "print(x)\n",
        "x=5\n",
        "x-=3\n",
        "print(x)\n",
        "print('-'*20)\n",
        "\n",
        "#perkalian \n",
        "print('perkalian')\n",
        "x=5\n",
        "x=x*5\n",
        "print(x)\n",
        "x=5\n",
        "x*=3\n",
        "print(x)\n",
        "print('-'*20)\n",
        "\n",
        "#pembagian \n",
        "print('pembagian')\n",
        "x=5\n",
        "x=x/5\n",
        "print(x)\n",
        "x=5\n",
        "x/=3\n",
        "print(x)\n",
        "print('-'*20)\n",
        "\n",
        "#modulus\n",
        "print('modulus')\n",
        "x=5\n",
        "x=x%5\n",
        "print(x)\n",
        "x=5\n",
        "x%=3\n",
        "print(x)\n",
        "print('-'*20)\n",
        "\n",
        "#pembagian floring\n",
        "print('pembagian floring')\n",
        "x=5\n",
        "x=x//5\n",
        "print(x)\n",
        "x=5\n",
        "x//=3\n",
        "print(x)\n",
        "print('-'*20)\n",
        "\n",
        "#perpangkatan\n",
        "print('perpangkatan')\n",
        "x=5\n",
        "x=x**5\n",
        "print(x)\n",
        "x=5\n",
        "x**=3\n",
        "print(x)\n",
        "print('-'*20)"
      ],
      "execution_count": null,
      "outputs": []
    },
    {
      "cell_type": "markdown",
      "metadata": {
        "id": "lJSQhOut2tP1"
      },
      "source": [
        "Latihan Operator 2"
      ]
    },
    {
      "cell_type": "code",
      "metadata": {
        "id": "M6vEPu5y2vbJ"
      },
      "source": [
        "#buatlah program penerapan operator assigment\n",
        "#dengan nilai-nilai yang berbeda dari contoh diatas\n",
        "\n",
        "#penjumlahan\n",
        "print('penjumlahan')\n",
        "x=11\n",
        "x=x+11\n",
        "print(x)\n",
        "x=11\n",
        "x+=20\n",
        "print(x)\n",
        "print('-'*20)\n",
        "\n",
        "#pengurangan\n",
        "print('pengurangan')\n",
        "x=20\n",
        "x=x-20\n",
        "print(x)\n",
        "x=20\n",
        "x-=12\n",
        "print(x)\n",
        "print('-'*20)\n",
        "\n",
        "#perkalian \n",
        "print('perkalian')\n",
        "x=25\n",
        "x=x*25\n",
        "print(x)\n",
        "x=25\n",
        "x*=13\n",
        "print(x)\n",
        "print('-'*20)\n",
        "\n",
        "#pembagian \n",
        "print('pembagian')\n",
        "x=35\n",
        "x=x/35\n",
        "print(x)\n",
        "x=35\n",
        "x/=23\n",
        "print(x)\n",
        "print('-'*20)\n",
        "\n",
        "#modulus\n",
        "print('modulus')\n",
        "x=51\n",
        "x=x%51\n",
        "print(x)\n",
        "x=51\n",
        "x%=31\n",
        "print(x)\n",
        "print('-'*20)\n",
        "\n",
        "#pembagian floring\n",
        "print('pembagian floring')\n",
        "x=52\n",
        "x=x//52\n",
        "print(x)\n",
        "x=52\n",
        "x//=33\n",
        "print(x)\n",
        "print('-'*20)\n",
        "\n",
        "#perpangkatan\n",
        "print('perpangkatan')\n",
        "x=53\n",
        "x=x**53\n",
        "print(x)\n",
        "x=53\n",
        "x**=31\n",
        "print(x)\n",
        "print('-'*20)"
      ],
      "execution_count": null,
      "outputs": []
    },
    {
      "cell_type": "markdown",
      "metadata": {
        "id": "a1k7GYYO3VRL"
      },
      "source": [
        "#operator pembanding"
      ]
    },
    {
      "cell_type": "markdown",
      "metadata": {
        "id": "84zSqLbb3YD9"
      },
      "source": [
        "operator pembanding digunakan untuk membandingkan 2 nilai atau variabel.\n",
        "macam-macam operator pembanding :"
      ]
    },
    {
      "cell_type": "code",
      "metadata": {
        "id": "7qAZPGE63gnu"
      },
      "source": [
        "== -> samadengan\n",
        "!= -> tidak samadengan\n",
        ">  -> lebih dari\n",
        "<  -> kurang dari\n",
        ">= -> lebih dari dan samadengan\n",
        "<= -> kurang dari dan samadengan"
      ],
      "execution_count": null,
      "outputs": []
    },
    {
      "cell_type": "code",
      "metadata": {
        "id": "s_amOjMB37vY"
      },
      "source": [
        "#contoh penggunaan operator pembanding\n",
        "\n",
        "print(2==2)\n",
        "print(2!=2)\n",
        "print(2>2)\n",
        "print(2<2)\n",
        "print(2>=2)\n",
        "print(2<=2)"
      ],
      "execution_count": null,
      "outputs": []
    },
    {
      "cell_type": "markdown",
      "metadata": {
        "id": "DyXtav5H4Osk"
      },
      "source": [
        "latihan operator 3"
      ]
    },
    {
      "cell_type": "code",
      "metadata": {
        "id": "QrP_dx5t4QqJ"
      },
      "source": [
        "#buatlah program penerapan operator pembanding \n",
        "#dengan nilai-nilai yang berbeda dari contoh diatas\n",
        "\n",
        "print(2==4)\n",
        "print(3!=2)\n",
        "print(5>4)\n",
        "print(4<6)\n",
        "print(3>=9)\n",
        "print(4<=5)"
      ],
      "execution_count": null,
      "outputs": []
    },
    {
      "cell_type": "markdown",
      "metadata": {
        "id": "ocV1O9EG4rN1"
      },
      "source": [
        "#operator logika"
      ]
    },
    {
      "cell_type": "markdown",
      "metadata": {
        "id": "EVzV4EpS4tz8"
      },
      "source": [
        "operator logika digunakan untuk mengkombinasikan statment-statment kondisi.\n",
        "macam-macam operator logika :\n"
      ]
    },
    {
      "cell_type": "code",
      "metadata": {
        "id": "7AayEtHe483n"
      },
      "source": [
        "and  -> kondisi menjadi benar apabila semua statmentnya benar\n",
        "or   -> kondisi menjadi benar apabila salah satunya ada yang benar\n",
        "not  -> membalik hasil benar ke salah dan salah kebenar"
      ],
      "execution_count": null,
      "outputs": []
    },
    {
      "cell_type": "code",
      "metadata": {
        "id": "60RXk3j75Tez"
      },
      "source": [
        "# contoh penggunaan operator logika\n",
        "\n",
        "print(True and True)\n",
        "print(False or False)\n",
        "print(not False and True)"
      ],
      "execution_count": null,
      "outputs": []
    },
    {
      "cell_type": "markdown",
      "metadata": {
        "id": "OS4SO6Zi5muO"
      },
      "source": [
        "latihan operator 4"
      ]
    },
    {
      "cell_type": "code",
      "metadata": {
        "id": "KEZ7A-8C5ljf"
      },
      "source": [
        "#buatlah program penerapan operator pembanding \n",
        "#dengan nilai-nilai yang berbeda dari contoh diatas\n",
        "\n",
        "print(False and False)\n",
        "print(False or True)\n",
        "print(not True and True)"
      ],
      "execution_count": null,
      "outputs": []
    },
    {
      "cell_type": "markdown",
      "metadata": {
        "id": "ww4Bc8po59kB"
      },
      "source": [
        "#operator keanggotaan"
      ]
    },
    {
      "cell_type": "markdown",
      "metadata": {
        "id": "9BdN3kaV6BBq"
      },
      "source": [
        "operator keanggotaan digunakan untuk menguji apakan urutan disajikan dalam suatu objek.\n",
        "\n",
        "macam-macam operator keanggotaan :"
      ]
    },
    {
      "cell_type": "code",
      "metadata": {
        "id": "yUcgW8Pb6QHN"
      },
      "source": [
        "in  -> return True ketika nilai tertentu dalam subuah urutan ada\n",
        "not in -> return True ketika nilai tertentu dalam sebuah urutan tidak ada "
      ],
      "execution_count": null,
      "outputs": []
    },
    {
      "cell_type": "code",
      "metadata": {
        "id": "yMvd-CIF6jLj"
      },
      "source": [
        "#contoh penggunaan operator keanggotaan\n",
        "a=(1,2,3,4,5,6)\n",
        "b=2\n",
        "print(b in a)\n",
        "\n",
        "print('-'*20)\n",
        "\n",
        "a=(1,2,3,4,5,6)\n",
        "b=7\n",
        "print(b not in a)"
      ],
      "execution_count": null,
      "outputs": []
    },
    {
      "cell_type": "markdown",
      "metadata": {
        "id": "h51r9CJM68kQ"
      },
      "source": [
        "latihan operator 5"
      ]
    },
    {
      "cell_type": "code",
      "metadata": {
        "id": "avF7yxqt647U"
      },
      "source": [
        "#buatlah program penerapan operator pembanding \n",
        "#dengan nilai-nilai yang berbeda dari contoh diatas\n",
        "\n",
        "a=(2,3,4,1,3,3,5)\n",
        "b=4\n",
        "print(b in a)\n",
        "\n",
        "print('-'*20)\n",
        "\n",
        "a=(2,3,4,1,3,3,5)\n",
        "b=6\n",
        "print(b not in a)"
      ],
      "execution_count": null,
      "outputs": []
    }
  ]
}