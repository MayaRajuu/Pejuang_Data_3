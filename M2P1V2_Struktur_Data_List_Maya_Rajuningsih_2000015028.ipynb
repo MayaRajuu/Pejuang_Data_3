{
  "nbformat": 4,
  "nbformat_minor": 0,
  "metadata": {
    "colab": {
      "name": "M2P1V2 Struktur Data List Maya Rajuningsih 2000015028",
      "provenance": []
    },
    "kernelspec": {
      "name": "python3",
      "display_name": "Python 3"
    },
    "language_info": {
      "name": "python"
    }
  },
  "cells": [
    {
      "cell_type": "markdown",
      "metadata": {
        "id": "z8NmoHVdzUBR"
      },
      "source": [
        "#list "
      ]
    },
    {
      "cell_type": "markdown",
      "metadata": {
        "id": "_T4KMOR3zXL0"
      },
      "source": [
        "List adalah jenis kumpulan data terurut (ordered squence), dan merupakan salah satu variabel yang sering digunakan pada python. serupa, namun tak sama dengan array pada bahasa pemograman lainnya. bedanya, elemen list pada python todak harus memiliki tipe data yang sama. mendeklerasikan list cukup mudah dengan kurung siku dan elemen yang dipisahkan dengan koma.\n",
        "\n",
        "setiap data didalamnya dapat diakses dengan indeks yang dimuali dari 0."
      ]
    },
    {
      "cell_type": "code",
      "metadata": {
        "colab": {
          "base_uri": "https://localhost:8080/"
        },
        "id": "id5QNiBxzE5R",
        "outputId": "1b1843e2-a652-4966-8f56-cad21f82cc75"
      },
      "source": [
        "#contoh list\n",
        "L1=[1, 4, 2, 13]\n",
        "print(type(L1))"
      ],
      "execution_count": 2,
      "outputs": [
        {
          "output_type": "stream",
          "name": "stdout",
          "text": [
            "<class 'list'>\n"
          ]
        }
      ]
    },
    {
      "cell_type": "code",
      "metadata": {
        "colab": {
          "base_uri": "https://localhost:8080/"
        },
        "id": "yvI8Gq_00XSi",
        "outputId": "bc3a5892-9b4a-4df6-ac8d-16b691ed69e8"
      },
      "source": [
        "L2=[\"a\", \"python\", 3]\n",
        "L2"
      ],
      "execution_count": 3,
      "outputs": [
        {
          "output_type": "execute_result",
          "data": {
            "text/plain": [
              "['a', 'python', 3]"
            ]
          },
          "metadata": {},
          "execution_count": 3
        }
      ]
    },
    {
      "cell_type": "code",
      "metadata": {
        "colab": {
          "base_uri": "https://localhost:8080/"
        },
        "id": "E1YfHV7B0fXw",
        "outputId": "a7b9c518-22ed-4a60-d189-e948d8081b25"
      },
      "source": [
        "print(L1)\n",
        "print(L2)"
      ],
      "execution_count": 4,
      "outputs": [
        {
          "output_type": "stream",
          "name": "stdout",
          "text": [
            "[1, 4, 2, 13]\n",
            "['a', 'python', 3]\n"
          ]
        }
      ]
    },
    {
      "cell_type": "markdown",
      "metadata": {
        "id": "JcvOY0pQ0m3R"
      },
      "source": [
        "Latihan 1"
      ]
    },
    {
      "cell_type": "code",
      "metadata": {
        "colab": {
          "base_uri": "https://localhost:8080/"
        },
        "id": "-EbXVyUS0oin",
        "outputId": "2b025e08-7f5b-4dad-e8d4-860a6b2fe471"
      },
      "source": [
        "#buatlah list kalian sendiri\n",
        "M1=[1,2,3,4,5]\n",
        "M2=[\"data\", \"sains\", 12]\n",
        "print(type(M1))\n",
        "print(M1)\n",
        "print(type(M2))\n",
        "print(M2)"
      ],
      "execution_count": 9,
      "outputs": [
        {
          "output_type": "stream",
          "name": "stdout",
          "text": [
            "<class 'list'>\n",
            "[1, 2, 3, 4, 5]\n",
            "<class 'list'>\n",
            "['data', 'sains', 12]\n"
          ]
        }
      ]
    },
    {
      "cell_type": "markdown",
      "metadata": {
        "id": "LsKudQLT11dM"
      },
      "source": [
        "Indeks di python (list,tuple) mulai 0"
      ]
    },
    {
      "cell_type": "code",
      "metadata": {
        "colab": {
          "base_uri": "https://localhost:8080/"
        },
        "id": "uEBKvpXg19Ty",
        "outputId": "a37c1be3-bdda-4d2c-e08e-168432a1d0ab"
      },
      "source": [
        "#sifat sifat list\n",
        "\n",
        "#terurut/ordered\n",
        "print(\"memanggil list L1 dengan indeks urutan:\", L1[0:3])\n",
        "\n",
        "#bisa diganti/multable\n",
        "L1[1]=2\n",
        "print(\"list L1 setelah diganti elemennya:\", L1)\n",
        "\n",
        "L1=[1,\"dua\", True, 2+3j]\n",
        "\n",
        "#dapat diindeks/slicing\n",
        "print(\"slicing list L1:\", L1[3])\n",
        "\n",
        "#dapat diijinkan duplikasi\n",
        "L1=[1, \"dua\", True, 2+3j, 2+3j]\n",
        "print(\"duplikasi pada list L1:\",L1)\n"
      ],
      "execution_count": 10,
      "outputs": [
        {
          "output_type": "stream",
          "name": "stdout",
          "text": [
            "memanggil list L1 dengan indeks urutan: [1, 4, 2]\n",
            "list L1 setelah diganti elemennya: [1, 2, 2, 13]\n",
            "slicing list L1: (2+3j)\n",
            "duplikasi pada list L1: [1, 'dua', True, (2+3j), (2+3j)]\n"
          ]
        }
      ]
    },
    {
      "cell_type": "markdown",
      "metadata": {
        "id": "IW9i8aqV3IQk"
      },
      "source": [
        "Latihan 2"
      ]
    },
    {
      "cell_type": "code",
      "metadata": {
        "colab": {
          "base_uri": "https://localhost:8080/"
        },
        "id": "anrq0rXo3JsR",
        "outputId": "b672d1f5-4565-40bb-8ae2-ac86bfe3de67"
      },
      "source": [
        "#ganti elemen yang ada pada list yang kalian buat\n",
        "\n",
        "#terurut/ordered\n",
        "print(\"memanggil list M1 dengan indeks urutan:\", M1[0:3])\n",
        "\n",
        "#bisa diganti/multable\n",
        "M1[1]=2\n",
        "print(\"list M1 setelah diganti elemennya:\", M1)\n",
        "\n",
        "M1=[1,\"dua\", True, 4+4j]\n",
        "\n",
        "#dapat diindeks/slicing\n",
        "print(\"slicing list M1:\", M1[3])\n",
        "\n",
        "#dapat diijinkan duplikasi\n",
        "M1=[1, \"dua\", True, 2+3j, 2+3j]\n",
        "print(\"duplikasi pada list M1:\",M1)"
      ],
      "execution_count": 11,
      "outputs": [
        {
          "output_type": "stream",
          "name": "stdout",
          "text": [
            "memanggil list M1 dengan indeks urutan: [1, 2, 3]\n",
            "list M1 setelah diganti elemennya: [1, 2, 3, 4, 5]\n",
            "slicing list M1: (4+4j)\n",
            "duplikasi pada list M1: [1, 'dua', True, (2+3j), (2+3j)]\n"
          ]
        }
      ]
    }
  ]
}