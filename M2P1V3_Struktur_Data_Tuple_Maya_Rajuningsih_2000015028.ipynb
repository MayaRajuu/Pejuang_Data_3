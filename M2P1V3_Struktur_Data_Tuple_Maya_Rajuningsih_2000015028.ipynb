{
  "nbformat": 4,
  "nbformat_minor": 0,
  "metadata": {
    "colab": {
      "name": "M2P1V2 Struktur Data Tuple Maya Rajuningsih 2000015028",
      "provenance": []
    },
    "kernelspec": {
      "name": "python3",
      "display_name": "Python 3"
    },
    "language_info": {
      "name": "python"
    }
  },
  "cells": [
    {
      "cell_type": "markdown",
      "metadata": {
        "id": "0NqufAtI341n"
      },
      "source": [
        "#Struktur data tuple"
      ]
    },
    {
      "cell_type": "markdown",
      "metadata": {
        "id": "Nn5b2ln438Bs"
      },
      "source": [
        "Tuple adalah jenis dari struktur data yang tidak dapat diubah elemennya. umumnya tuple digunakan untuk data yang bersifat sekali tulis, dan dapat dieksekusi lebih cepat. Tuple didefinisikan dengan kurung dan elemen yang dipisahkan dengan koma."
      ]
    },
    {
      "cell_type": "code",
      "metadata": {
        "colab": {
          "base_uri": "https://localhost:8080/"
        },
        "id": "zqE9aVJe30hm",
        "outputId": "1e773b4d-a803-43e8-e0e2-26902796d529"
      },
      "source": [
        "#contoh tuple\n",
        "T1=(1, \"dua\",True, 1+2j)\n",
        "print(\"ini adlaah tuple:\", T1)"
      ],
      "execution_count": 1,
      "outputs": [
        {
          "output_type": "stream",
          "name": "stdout",
          "text": [
            "ini adlaah tuple: (1, 'dua', True, (1+2j))\n"
          ]
        }
      ]
    },
    {
      "cell_type": "code",
      "metadata": {
        "colab": {
          "base_uri": "https://localhost:8080/"
        },
        "id": "2v8vNwod4gWl",
        "outputId": "ba1e389e-2ba9-44e6-c0f6-3a9976b8e24f"
      },
      "source": [
        "#menampilkan tipe struktur data\n",
        "type(T1)"
      ],
      "execution_count": 2,
      "outputs": [
        {
          "output_type": "execute_result",
          "data": {
            "text/plain": [
              "tuple"
            ]
          },
          "metadata": {},
          "execution_count": 2
        }
      ]
    },
    {
      "cell_type": "markdown",
      "metadata": {
        "id": "6CQ92cNK4nLo"
      },
      "source": [
        "Latihan 1"
      ]
    },
    {
      "cell_type": "code",
      "metadata": {
        "colab": {
          "base_uri": "https://localhost:8080/"
        },
        "id": "bh0Of1Wb4pZc",
        "outputId": "55e33f2c-72da-42d8-cd52-15ae4c6e12a3"
      },
      "source": [
        "#buatlah tuplemu sendiri\n",
        "M1=(2, 30, False, 3+2j)\n",
        "print(\"ini adalah tuple saya:\",M1)\n",
        "type(M1)"
      ],
      "execution_count": 3,
      "outputs": [
        {
          "output_type": "stream",
          "name": "stdout",
          "text": [
            "ini adalah tuple saya: (2, 30, False, (3+2j))\n"
          ]
        },
        {
          "output_type": "execute_result",
          "data": {
            "text/plain": [
              "tuple"
            ]
          },
          "metadata": {},
          "execution_count": 3
        }
      ]
    },
    {
      "cell_type": "markdown",
      "metadata": {
        "id": "_YfMyj7c5A__"
      },
      "source": [
        "sifat-sifat tuple"
      ]
    },
    {
      "cell_type": "code",
      "metadata": {
        "colab": {
          "base_uri": "https://localhost:8080/"
        },
        "id": "F1WVH-BW5V9K",
        "outputId": "66554eb7-4e04-4ddd-d42e-2c49e45a96b7"
      },
      "source": [
        "#terurut/ordered\n",
        "T1[0:3]"
      ],
      "execution_count": 5,
      "outputs": [
        {
          "output_type": "execute_result",
          "data": {
            "text/plain": [
              "(1, 'dua', True)"
            ]
          },
          "metadata": {},
          "execution_count": 5
        }
      ]
    },
    {
      "cell_type": "code",
      "metadata": {
        "colab": {
          "base_uri": "https://localhost:8080/",
          "height": 183
        },
        "id": "uEI9ilux5DeE",
        "outputId": "30ba521e-2326-4808-ad93-d8f7bbf13cad"
      },
      "source": [
        "#tidak bisa diganti/immutable\n",
        "T1[2]=\"manusia\""
      ],
      "execution_count": 4,
      "outputs": [
        {
          "output_type": "error",
          "ename": "TypeError",
          "evalue": "ignored",
          "traceback": [
            "\u001b[0;31m---------------------------------------------------------------------------\u001b[0m",
            "\u001b[0;31mTypeError\u001b[0m                                 Traceback (most recent call last)",
            "\u001b[0;32m<ipython-input-4-1646010f42bb>\u001b[0m in \u001b[0;36m<module>\u001b[0;34m()\u001b[0m\n\u001b[1;32m      1\u001b[0m \u001b[0;31m#terurut/ordered\u001b[0m\u001b[0;34m\u001b[0m\u001b[0;34m\u001b[0m\u001b[0;34m\u001b[0m\u001b[0m\n\u001b[0;32m----> 2\u001b[0;31m \u001b[0mT1\u001b[0m\u001b[0;34m[\u001b[0m\u001b[0;36m2\u001b[0m\u001b[0;34m]\u001b[0m\u001b[0;34m=\u001b[0m\u001b[0;34m\"manusia\"\u001b[0m\u001b[0;34m\u001b[0m\u001b[0;34m\u001b[0m\u001b[0m\n\u001b[0m",
            "\u001b[0;31mTypeError\u001b[0m: 'tuple' object does not support item assignment"
          ]
        }
      ]
    },
    {
      "cell_type": "code",
      "metadata": {
        "colab": {
          "base_uri": "https://localhost:8080/"
        },
        "id": "r68qeHzL5dRU",
        "outputId": "ed5ee7a1-3950-4b20-be3f-d7e85476e7a0"
      },
      "source": [
        "#dapat diindeks/slicing\n",
        "print(\"elemen kedua dari tuple T1 adalah:\", T1[1])"
      ],
      "execution_count": 6,
      "outputs": [
        {
          "output_type": "stream",
          "name": "stdout",
          "text": [
            "elemen kedua dari tuple T1 adalah: dua\n"
          ]
        }
      ]
    },
    {
      "cell_type": "code",
      "metadata": {
        "colab": {
          "base_uri": "https://localhost:8080/"
        },
        "id": "PDhErXP15oDC",
        "outputId": "5404d36c-1d4c-4854-8194-79393015159e"
      },
      "source": [
        "#dapat diijinkan duplikasi\n",
        "T2=(3,2.4, True, 2.4)\n",
        "T2"
      ],
      "execution_count": 7,
      "outputs": [
        {
          "output_type": "execute_result",
          "data": {
            "text/plain": [
              "(3, 2.4, True, 2.4)"
            ]
          },
          "metadata": {},
          "execution_count": 7
        }
      ]
    },
    {
      "cell_type": "markdown",
      "metadata": {
        "id": "A6uUnE315A96"
      },
      "source": [
        "menggabungkan tuple"
      ]
    },
    {
      "cell_type": "code",
      "metadata": {
        "colab": {
          "base_uri": "https://localhost:8080/"
        },
        "id": "jO7M-XCk5yPt",
        "outputId": "859e4328-b582-4987-f7bc-885de0fb0494"
      },
      "source": [
        "#menggabungkan tuplel\n",
        "T3=T1+T2\n",
        "T3"
      ],
      "execution_count": 8,
      "outputs": [
        {
          "output_type": "execute_result",
          "data": {
            "text/plain": [
              "(1, 'dua', True, (1+2j), 3, 2.4, True, 2.4)"
            ]
          },
          "metadata": {},
          "execution_count": 8
        }
      ]
    },
    {
      "cell_type": "markdown",
      "metadata": {
        "id": "HG94OXxP56cG"
      },
      "source": [
        "latihan 2"
      ]
    },
    {
      "cell_type": "code",
      "metadata": {
        "colab": {
          "base_uri": "https://localhost:8080/"
        },
        "id": "szopdPiD57jv",
        "outputId": "366b8db4-59b3-41ff-f207-130c7a4f3156"
      },
      "source": [
        "#buatlah tuple lalu gabungkan 2 tuple yang telah kamu buat\n",
        "M2=(1,1,True,2+3j,3)\n",
        "M3=M1+M2\n",
        "M3"
      ],
      "execution_count": 9,
      "outputs": [
        {
          "output_type": "execute_result",
          "data": {
            "text/plain": [
              "(2, 30, False, (3+2j), 1, 1, True, (2+3j), 3)"
            ]
          },
          "metadata": {},
          "execution_count": 9
        }
      ]
    }
  ]
}