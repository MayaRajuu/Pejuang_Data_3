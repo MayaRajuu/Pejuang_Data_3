{
  "nbformat": 4,
  "nbformat_minor": 0,
  "metadata": {
    "colab": {
      "name": "Maya Rajuningsih M1P1V2 Pengenalan Python",
      "provenance": []
    },
    "kernelspec": {
      "name": "python3",
      "display_name": "Python 3"
    },
    "language_info": {
      "name": "python"
    }
  },
  "cells": [
    {
      "cell_type": "markdown",
      "metadata": {
        "id": "vydTD-41rGD8"
      },
      "source": [
        "# Pengenalan Python"
      ]
    },
    {
      "cell_type": "markdown",
      "metadata": {
        "id": "7o9w_t7mpPM8"
      },
      "source": [
        "python adalah bahasa pemrogaman tingkat tinggi dengan dynamic semantitics, bersifat object oriented, dan interpretatif. Bahasa pemograman ini fokus dikembangkan pada keterbacaan bahasa pemograman. \n",
        "1. **Bahasa Pemograman Tingkat Tinggi ( High Level Pemogrammming)** Artinya sintaks kode lebih mudah ditafsirkan oleh manusia.\n",
        "2. **Interpretatif** ini artinya bahasa ini memerlukan intrepeter ini atau pennerjemah. ini memungkinkan bagi kita untuk menggunakan bahasa yang lebih mudah kita pahami.\n",
        "3. **object oriented** ini berarti bahwa bahasa pemogrman ini berorientasi kepada objek. hal ini memebuat python lebih mudah untuk dikembangkan.\n",
        "4. **Dynamic Semantics** python secara otomatis akan menyesuaikan tipe dari suatu variable bedasarkan inputnya."
      ]
    },
    {
      "cell_type": "markdown",
      "metadata": {
        "id": "bGkUnKqbrhYD"
      },
      "source": [
        "# Mengapa Python?"
      ]
    },
    {
      "cell_type": "markdown",
      "metadata": {
        "id": "eANi8oCGrkFP"
      },
      "source": [
        "1. Mudah dipahami\n",
        "2. Gratis & Open Source\n",
        "3. DInamis\n",
        "4. Memiliki Library Terlengkap untuk Data Sains"
      ]
    },
    {
      "cell_type": "markdown",
      "metadata": {
        "id": "jfQrCjdVrw-8"
      },
      "source": [
        "# struktur Program Pada Python"
      ]
    },
    {
      "cell_type": "markdown",
      "metadata": {
        "id": "E4wTBgVEr0Ea"
      },
      "source": [
        "Python pada umumnya terdiri dari :\n",
        "1. **Statements**"
      ]
    },
    {
      "cell_type": "code",
      "metadata": {
        "colab": {
          "base_uri": "https://localhost:8080/"
        },
        "id": "8fCCK3cJpCsl",
        "outputId": "6489f398-bc18-4cb5-dbff-e7572c651970"
      },
      "source": [
        "print(\"Belajar Python Menyenangkan\")\n",
        "print(\"halo dunia\")"
      ],
      "execution_count": 1,
      "outputs": [
        {
          "output_type": "stream",
          "name": "stdout",
          "text": [
            "Belajar Python Menyenangkan\n",
            "halo dunia\n"
          ]
        }
      ]
    },
    {
      "cell_type": "markdown",
      "metadata": {
        "id": "AVNjmpOBshHw"
      },
      "source": [
        "2. **Variables**"
      ]
    },
    {
      "cell_type": "code",
      "metadata": {
        "id": "JtfdoCYcs1At"
      },
      "source": [
        "bilangan1= 5\n",
        "bilangan2= 10\n",
        "kalimat = \"pejuang data 3\""
      ],
      "execution_count": 2,
      "outputs": []
    },
    {
      "cell_type": "markdown",
      "metadata": {
        "id": "RJqSNhE1tBpQ"
      },
      "source": [
        "3. **Literals**: Simbol-simbol yang dapat kita gunakan untuk mengisisuatu variabel."
      ]
    },
    {
      "cell_type": "markdown",
      "metadata": {
        "id": "HH1KHxHYtLN5"
      },
      "source": [
        "4. **Operators**: Simbol-simbol yang dapat digunakan untuk mengubah nilai dari satu variabel dengan melibatkan satu atau lebih variabel dan literal."
      ]
    },
    {
      "cell_type": "code",
      "metadata": {
        "colab": {
          "base_uri": "https://localhost:8080/"
        },
        "id": "OZJ24jg-tgLT",
        "outputId": "16cc6fb1-98ba-40f7-f9c3-a8d4c2426ed6"
      },
      "source": [
        "bilangan1 + bilangan2"
      ],
      "execution_count": 3,
      "outputs": [
        {
          "output_type": "execute_result",
          "data": {
            "text/plain": [
              "15"
            ]
          },
          "metadata": {},
          "execution_count": 3
        }
      ]
    },
    {
      "cell_type": "markdown",
      "metadata": {
        "id": "oFQT_V9Mtlnd"
      },
      "source": [
        "5. **Reserved Word** : Kumpulan kata-kata yang memiliki makna khusus dalam bahasa pemograman python. kata ***false***, *return*, dan *for* merupakan contoh dari reserved words.\n",
        "\n",
        "\n"
      ]
    },
    {
      "cell_type": "markdown",
      "metadata": {
        "id": "V-yu3GpMuCAx"
      },
      "source": [
        "6. **Whitespace** : pada bahasa python, spasi dan tab memiliki makna khusus untuk menandai serangkaian blok dalam kode python. "
      ]
    },
    {
      "cell_type": "markdown",
      "metadata": {
        "id": "7RnpqF0Su5OU"
      },
      "source": [
        "7. **Comments** : Comments merupakan sekumpulan teks yang dituliskan didalam sebuah program yang tidak akan mempengaruhi hasil dari sebuah program. "
      ]
    },
    {
      "cell_type": "markdown",
      "metadata": {
        "id": "7_PYs61gvIfk"
      },
      "source": [
        "Terdapat dua jenis comments di dalam python, yaitu :\n",
        "\n",
        "**a.**    **single line comment** (comments dalam satu baris) seperti pada contoh berikut:\n"
      ]
    },
    {
      "cell_type": "code",
      "metadata": {
        "colab": {
          "base_uri": "https://localhost:8080/"
        },
        "id": "wElKb5IsvWE4",
        "outputId": "6d2907ba-aca0-4111-bd4a-94559a371900"
      },
      "source": [
        "# ini adalah comment\n",
        "print(\"belajar python\")"
      ],
      "execution_count": 4,
      "outputs": [
        {
          "output_type": "stream",
          "name": "stdout",
          "text": [
            "belajar python\n"
          ]
        }
      ]
    },
    {
      "cell_type": "markdown",
      "metadata": {
        "id": "_ob4WM-qvsU1"
      },
      "source": [
        "\n",
        "\n",
        "**b.**   **multi line comment** (comments dalam beberapa baris) yang dpaat dituliskan seperti pada contoh berikut:\n"
      ]
    },
    {
      "cell_type": "code",
      "metadata": {
        "colab": {
          "base_uri": "https://localhost:8080/"
        },
        "id": "CqGaKgtqv9L2",
        "outputId": "a4c2bf7f-aaf2-4781-fc8b-5eb64b271eb5"
      },
      "source": [
        "'''\n",
        "ini adalah komentar panjang\n",
        "Bisa digunakan untuk memberikan penjelasan \n",
        "panjang pada Sell kode Python,\n",
        "Misal dokumentasi program, spesifikasi\n",
        "input output atau lainnya\n",
        "'''\n",
        "\n",
        "print(\"belajar python menyenangkan\")"
      ],
      "execution_count": 7,
      "outputs": [
        {
          "output_type": "stream",
          "name": "stdout",
          "text": [
            "belajar python menyenangkan\n"
          ]
        }
      ]
    }
  ]
}